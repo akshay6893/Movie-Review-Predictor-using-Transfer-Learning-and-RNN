{
 "cells": [
  {
   "cell_type": "code",
   "execution_count": 0,
   "metadata": {
    "colab": {},
    "colab_type": "code",
    "id": "3G2G7HF5PYGu"
   },
   "outputs": [],
   "source": [
    "import pandas as pd\n",
    "import numpy as np\n",
    "from pathlib import Path\n",
    "from fastai import*\n",
    "from fastai.text import*\n"
   ]
  },
  {
   "cell_type": "markdown",
   "metadata": {
    "colab": {},
    "colab_type": "code",
    "id": "0tdTw9Gn5YzA"
   },
   "source": [
    "## Wrangling"
   ]
  },
  {
   "cell_type": "code",
   "execution_count": 92,
   "metadata": {
    "colab": {
     "base_uri": "https://localhost:8080/",
     "height": 419
    },
    "colab_type": "code",
    "executionInfo": {
     "elapsed": 2400,
     "status": "ok",
     "timestamp": 1576213143708,
     "user": {
      "displayName": "Akshay Tiwari",
      "photoUrl": "https://lh3.googleusercontent.com/a-/AAuE7mBxfeKyXo_U4zk5HDKX2NYq1-whtREL1jBpGr69NQ=s64",
      "userId": "03055594998709423173"
     },
     "user_tz": -330
    },
    "id": "GKqPevAEqGFQ",
    "outputId": "233ce8c3-805a-47d2-a739-2ca1f2019b97"
   },
   "outputs": [
    {
     "data": {
      "text/html": [
       "<div>\n",
       "<style scoped>\n",
       "    .dataframe tbody tr th:only-of-type {\n",
       "        vertical-align: middle;\n",
       "    }\n",
       "\n",
       "    .dataframe tbody tr th {\n",
       "        vertical-align: top;\n",
       "    }\n",
       "\n",
       "    .dataframe thead th {\n",
       "        text-align: right;\n",
       "    }\n",
       "</style>\n",
       "<table border=\"1\" class=\"dataframe\">\n",
       "  <thead>\n",
       "    <tr style=\"text-align: right;\">\n",
       "      <th></th>\n",
       "      <th>review</th>\n",
       "      <th>sentiment</th>\n",
       "    </tr>\n",
       "  </thead>\n",
       "  <tbody>\n",
       "    <tr>\n",
       "      <th>0</th>\n",
       "      <td>One of the other reviewers has mentioned that ...</td>\n",
       "      <td>positive</td>\n",
       "    </tr>\n",
       "    <tr>\n",
       "      <th>1</th>\n",
       "      <td>A wonderful little production. &lt;br /&gt;&lt;br /&gt;The...</td>\n",
       "      <td>positive</td>\n",
       "    </tr>\n",
       "    <tr>\n",
       "      <th>2</th>\n",
       "      <td>I thought this was a wonderful way to spend ti...</td>\n",
       "      <td>positive</td>\n",
       "    </tr>\n",
       "    <tr>\n",
       "      <th>3</th>\n",
       "      <td>Basically there's a family where a little boy ...</td>\n",
       "      <td>negative</td>\n",
       "    </tr>\n",
       "    <tr>\n",
       "      <th>4</th>\n",
       "      <td>Petter Mattei's \"Love in the Time of Money\" is...</td>\n",
       "      <td>positive</td>\n",
       "    </tr>\n",
       "    <tr>\n",
       "      <th>...</th>\n",
       "      <td>...</td>\n",
       "      <td>...</td>\n",
       "    </tr>\n",
       "    <tr>\n",
       "      <th>49995</th>\n",
       "      <td>I thought this movie did a down right good job...</td>\n",
       "      <td>positive</td>\n",
       "    </tr>\n",
       "    <tr>\n",
       "      <th>49996</th>\n",
       "      <td>Bad plot, bad dialogue, bad acting, idiotic di...</td>\n",
       "      <td>negative</td>\n",
       "    </tr>\n",
       "    <tr>\n",
       "      <th>49997</th>\n",
       "      <td>I am a Catholic taught in parochial elementary...</td>\n",
       "      <td>negative</td>\n",
       "    </tr>\n",
       "    <tr>\n",
       "      <th>49998</th>\n",
       "      <td>I'm going to have to disagree with the previou...</td>\n",
       "      <td>negative</td>\n",
       "    </tr>\n",
       "    <tr>\n",
       "      <th>49999</th>\n",
       "      <td>No one expects the Star Trek movies to be high...</td>\n",
       "      <td>negative</td>\n",
       "    </tr>\n",
       "  </tbody>\n",
       "</table>\n",
       "<p>50000 rows × 2 columns</p>\n",
       "</div>"
      ],
      "text/plain": [
       "                                                  review sentiment\n",
       "0      One of the other reviewers has mentioned that ...  positive\n",
       "1      A wonderful little production. <br /><br />The...  positive\n",
       "2      I thought this was a wonderful way to spend ti...  positive\n",
       "3      Basically there's a family where a little boy ...  negative\n",
       "4      Petter Mattei's \"Love in the Time of Money\" is...  positive\n",
       "...                                                  ...       ...\n",
       "49995  I thought this movie did a down right good job...  positive\n",
       "49996  Bad plot, bad dialogue, bad acting, idiotic di...  negative\n",
       "49997  I am a Catholic taught in parochial elementary...  negative\n",
       "49998  I'm going to have to disagree with the previou...  negative\n",
       "49999  No one expects the Star Trek movies to be high...  negative\n",
       "\n",
       "[50000 rows x 2 columns]"
      ]
     },
     "execution_count": 92,
     "metadata": {
      "tags": []
     },
     "output_type": "execute_result"
    }
   ],
   "source": [
    "path = Path(\"\")\n",
    "df = pd.read_csv(\"IMDB Dataset.csv\")\n",
    "df"
   ]
  },
  {
   "cell_type": "code",
   "execution_count": 0,
   "metadata": {
    "colab": {},
    "colab_type": "code",
    "id": "b7mKUV60qGFU"
   },
   "outputs": [],
   "source": [
    "train_rev = df.loc[10000:14999,'review'].values\n",
    "train_lab = df.loc[10000:14999,'sentiment'].values\n",
    "val_rev = df.loc[36000:38999,\"review\"].values\n",
    "val_lab = df.loc[36000:38999,\"sentiment\"].values\n",
    "\n",
    "\n",
    "np.random.seed(23)\n",
    "train_ran = np.random.permutation(len(train_rev))\n",
    "val_ran = np.random.permutation(len(val_rev))\n",
    "\n",
    "train_rev = train_rev[train_ran]\n",
    "train_lab = train_lab[train_ran]\n",
    "\n",
    "val_rev = val_rev[val_ran]\n",
    "val_lab = val_lab[val_ran]\n",
    "\n",
    "\n",
    "col_names = ['labels','text']\n",
    "df_trn = pd.DataFrame({'text':train_rev, 'labels':train_lab}, columns=col_names)\n",
    "df_val = pd.DataFrame({'text':val_rev, 'labels':val_lab}, columns=col_names)\n"
   ]
  },
  {
   "cell_type": "markdown",
   "metadata": {},
   "source": [
    "## Tokenization"
   ]
  },
  {
   "cell_type": "code",
   "execution_count": 94,
   "metadata": {
    "colab": {
     "base_uri": "https://localhost:8080/",
     "height": 17
    },
    "colab_type": "code",
    "executionInfo": {
     "elapsed": 16286,
     "status": "ok",
     "timestamp": 1576213161127,
     "user": {
      "displayName": "Akshay Tiwari",
      "photoUrl": "https://lh3.googleusercontent.com/a-/AAuE7mBxfeKyXo_U4zk5HDKX2NYq1-whtREL1jBpGr69NQ=s64",
      "userId": "03055594998709423173"
     },
     "user_tz": -330
    },
    "id": "M5fLsq51qGFW",
    "outputId": "8d89ec10-9937-4756-d16d-34392b5b13fb"
   },
   "outputs": [
    {
     "data": {
      "text/html": [],
      "text/plain": [
       "<IPython.core.display.HTML object>"
      ]
     },
     "metadata": {
      "tags": []
     },
     "output_type": "display_data"
    },
    {
     "data": {
      "text/html": [],
      "text/plain": [
       "<IPython.core.display.HTML object>"
      ]
     },
     "metadata": {
      "tags": []
     },
     "output_type": "display_data"
    }
   ],
   "source": [
    "import fastai.text.learner as l\n",
    "data_bunch = l.TextLMDataBunch.from_df(path,train_df=df_trn, valid_df=df_val)\n"
   ]
  },
  {
   "cell_type": "code",
   "execution_count": 95,
   "metadata": {
    "colab": {
     "base_uri": "https://localhost:8080/",
     "height": 289
    },
    "colab_type": "code",
    "executionInfo": {
     "elapsed": 1083,
     "status": "ok",
     "timestamp": 1576213167505,
     "user": {
      "displayName": "Akshay Tiwari",
      "photoUrl": "https://lh3.googleusercontent.com/a-/AAuE7mBxfeKyXo_U4zk5HDKX2NYq1-whtREL1jBpGr69NQ=s64",
      "userId": "03055594998709423173"
     },
     "user_tz": -330
    },
    "id": "ya9hjWktqGFZ",
    "outputId": "05074d64-1cff-4215-e6b3-91ae3b159c6f",
    "scrolled": true
   },
   "outputs": [
    {
     "data": {
      "text/html": [
       "<table border=\"1\" class=\"dataframe\">\n",
       "  <thead>\n",
       "    <tr style=\"text-align: right;\">\n",
       "      <th>idx</th>\n",
       "      <th>text</th>\n",
       "    </tr>\n",
       "  </thead>\n",
       "  <tbody>\n",
       "    <tr>\n",
       "      <td>0</td>\n",
       "      <td>i 'm still equally as impressed today with the musical numbers , each one a standout song with wonderfully dramatic lyrics in the epic tradition of 80 's pop ( think xxmaj pat xxmaj xxunk on helium , only xxunk ) . \\n \\n  xxmaj controversy has stirred over the blatantly suggestive tone of the xxmaj xxunk 's song \" xxmaj xxunk ' xxmaj lucky xxmaj with xxmaj you</td>\n",
       "    </tr>\n",
       "    <tr>\n",
       "      <td>1</td>\n",
       "      <td>being updated up to this day as if it was a history book . xxmaj well it 's not . xxmaj the movie is about the novels 1950s version . xxmaj some actors were xxup great but that does n't cover the plot . \\n \\n  xxmaj in short man invents a super - bomb so xxmaj god and his friends hold a tribunal to see if they must</td>\n",
       "    </tr>\n",
       "    <tr>\n",
       "      <td>2</td>\n",
       "      <td>of its laughs ; xxmaj baby xxmaj mama has little going on in any of these departments . xxmaj of course to say that the film is without any value at all would be unfair . i 'm sure female audiences in a similar boat as lead character xxmaj kate may get a slight kick out of the proceedings , but anyone else will probably just feel numb and probably</td>\n",
       "    </tr>\n",
       "    <tr>\n",
       "      <td>3</td>\n",
       "      <td>. xxmaj the black mother declares that it 's \" all right , then \" when it 's mentioned that another black character is at church instead of helping prepare dinner ( because all blacks love church ) , the xxmaj hispanics seem only capable of speaking xxmaj spanish when the greet each other or make exclamations , the lesbians do nothing but xxunk and kiss ( and one of</td>\n",
       "    </tr>\n",
       "    <tr>\n",
       "      <td>4</td>\n",
       "      <td>story , which got me to thinking . xxmaj with all the dialogue , the minimal locations and the lack of cinematic qualities , it occurred to me that with two kick ass actors and a tightening re - write , xxup two xxup harbors might make a really kick - ass stage play  maybe even a one - act . xxmaj if there are any bold theater producers</td>\n",
       "    </tr>\n",
       "  </tbody>\n",
       "</table>"
      ],
      "text/plain": [
       "<IPython.core.display.HTML object>"
      ]
     },
     "metadata": {
      "tags": []
     },
     "output_type": "display_data"
    }
   ],
   "source": [
    "from fastai.text import*\n",
    "data_bunch.show_batch()"
   ]
  },
  {
   "cell_type": "markdown",
   "metadata": {},
   "source": [
    "## Numericalization"
   ]
  },
  {
   "cell_type": "code",
   "execution_count": 96,
   "metadata": {
    "colab": {
     "base_uri": "https://localhost:8080/",
     "height": 34
    },
    "colab_type": "code",
    "executionInfo": {
     "elapsed": 1586,
     "status": "ok",
     "timestamp": 1576213170456,
     "user": {
      "displayName": "Akshay Tiwari",
      "photoUrl": "https://lh3.googleusercontent.com/a-/AAuE7mBxfeKyXo_U4zk5HDKX2NYq1-whtREL1jBpGr69NQ=s64",
      "userId": "03055594998709423173"
     },
     "user_tz": -330
    },
    "id": "UE-rE5flqGFb",
    "outputId": "1c250063-ba9b-4460-cee7-50d5c7eb2b68"
   },
   "outputs": [
    {
     "data": {
      "text/plain": [
       "259"
      ]
     },
     "execution_count": 96,
     "metadata": {
      "tags": []
     },
     "output_type": "execute_result"
    }
   ],
   "source": [
    "token = data_bunch.train_ds[0][0].data[:]\n",
    "len(token)"
   ]
  },
  {
   "cell_type": "code",
   "execution_count": 0,
   "metadata": {
    "colab": {},
    "colab_type": "code",
    "id": "WlIvW3s2qGFd"
   },
   "outputs": [],
   "source": [
    "data_bunch.save('tmp_lm')"
   ]
  },
  {
   "cell_type": "markdown",
   "metadata": {},
   "source": [
    "## Language Model & Encoding "
   ]
  },
  {
   "cell_type": "code",
   "execution_count": 0,
   "metadata": {
    "colab": {},
    "colab_type": "code",
    "id": "0NcvT39cqGFg"
   },
   "outputs": [],
   "source": [
    "learner = language_model_learner(data_bunch,AWD_LSTM, pretrained=URLs.WT103_BWD, drop_mult=0.5)"
   ]
  },
  {
   "cell_type": "markdown",
   "metadata": {},
   "source": [
    "## Learning rate"
   ]
  },
  {
   "cell_type": "code",
   "execution_count": 112,
   "metadata": {
    "colab": {
     "base_uri": "https://localhost:8080/",
     "height": 296
    },
    "colab_type": "code",
    "executionInfo": {
     "elapsed": 15411,
     "status": "ok",
     "timestamp": 1576213629508,
     "user": {
      "displayName": "Akshay Tiwari",
      "photoUrl": "https://lh3.googleusercontent.com/a-/AAuE7mBxfeKyXo_U4zk5HDKX2NYq1-whtREL1jBpGr69NQ=s64",
      "userId": "03055594998709423173"
     },
     "user_tz": -330
    },
    "id": "eMhqr3NzqGFj",
    "outputId": "53978488-e5b2-4b16-e887-b607aac76576"
   },
   "outputs": [
    {
     "data": {
      "text/html": [],
      "text/plain": [
       "<IPython.core.display.HTML object>"
      ]
     },
     "metadata": {
      "tags": []
     },
     "output_type": "display_data"
    },
    {
     "name": "stdout",
     "output_type": "stream",
     "text": [
      "LR Finder is complete, type {learner_name}.recorder.plot() to see the graph.\n"
     ]
    },
    {
     "data": {
      "image/png": "[encoded data removed]",
      "text/plain": [
       "<Figure size 432x288 with 1 Axes>"
      ]
     },
     "metadata": {
      "tags": []
     },
     "output_type": "display_data"
    }
   ],
   "source": [
    "learner.lr_find()\n",
    "learner.recorder.plot()"
   ]
  },
  {
   "cell_type": "markdown",
   "metadata": {},
   "source": [
    "## Training and Prediction"
   ]
  },
  {
   "cell_type": "code",
   "execution_count": 101,
   "metadata": {
    "colab": {
     "base_uri": "https://localhost:8080/",
     "height": 111
    },
    "colab_type": "code",
    "executionInfo": {
     "elapsed": 112154,
     "status": "ok",
     "timestamp": 1576213309198,
     "user": {
      "displayName": "Akshay Tiwari",
      "photoUrl": "https://lh3.googleusercontent.com/a-/AAuE7mBxfeKyXo_U4zk5HDKX2NYq1-whtREL1jBpGr69NQ=s64",
      "userId": "03055594998709423173"
     },
     "user_tz": -330
    },
    "id": "JS2giS8HqGFl",
    "outputId": "8abad305-e89c-42b3-e179-a38c8b82f8a5"
   },
   "outputs": [
    {
     "data": {
      "text/html": [
       "<table border=\"1\" class=\"dataframe\">\n",
       "  <thead>\n",
       "    <tr style=\"text-align: left;\">\n",
       "      <th>epoch</th>\n",
       "      <th>train_loss</th>\n",
       "      <th>valid_loss</th>\n",
       "      <th>accuracy</th>\n",
       "      <th>time</th>\n",
       "    </tr>\n",
       "  </thead>\n",
       "  <tbody>\n",
       "    <tr>\n",
       "      <td>0</td>\n",
       "      <td>4.299817</td>\n",
       "      <td>4.046644</td>\n",
       "      <td>0.281628</td>\n",
       "      <td>00:55</td>\n",
       "    </tr>\n",
       "    <tr>\n",
       "      <td>1</td>\n",
       "      <td>3.956351</td>\n",
       "      <td>3.975762</td>\n",
       "      <td>0.288265</td>\n",
       "      <td>00:55</td>\n",
       "    </tr>\n",
       "  </tbody>\n",
       "</table>"
      ],
      "text/plain": [
       "<IPython.core.display.HTML object>"
      ]
     },
     "metadata": {
      "tags": []
     },
     "output_type": "display_data"
    }
   ],
   "source": [
    "learner.fit_one_cycle(2,1e-02)"
   ]
  },
  {
   "cell_type": "code",
   "execution_count": 102,
   "metadata": {
    "colab": {
     "base_uri": "https://localhost:8080/",
     "height": 34
    },
    "colab_type": "code",
    "executionInfo": {
     "elapsed": 951,
     "status": "ok",
     "timestamp": 1576213365668,
     "user": {
      "displayName": "Akshay Tiwari",
      "photoUrl": "https://lh3.googleusercontent.com/a-/AAuE7mBxfeKyXo_U4zk5HDKX2NYq1-whtREL1jBpGr69NQ=s64",
      "userId": "03055594998709423173"
     },
     "user_tz": -330
    },
    "id": "DRR4KmD-8nir",
    "outputId": "62fbc1cf-4b3e-4cdf-9cfd-43b8f7dba530"
   },
   "outputs": [
    {
     "data": {
      "text/plain": [
       "'All the movies are long ... - HECK 1 oooooooooo'"
      ]
     },
     "execution_count": 102,
     "metadata": {
      "tags": []
     },
     "output_type": "execute_result"
    }
   ],
   "source": [
    "learner.predict(\"All the movies\",n_words=10)"
   ]
  },
  {
   "cell_type": "code",
   "execution_count": 0,
   "metadata": {
    "colab": {},
    "colab_type": "code",
    "id": "rKpt4LH09npF"
   },
   "outputs": [],
   "source": [
    "learner.save_encoder('fine_enc')"
   ]
  },
  {
   "cell_type": "code",
   "execution_count": 105,
   "metadata": {
    "colab": {
     "base_uri": "https://localhost:8080/",
     "height": 419
    },
    "colab_type": "code",
    "executionInfo": {
     "elapsed": 1013,
     "status": "ok",
     "timestamp": 1576213380350,
     "user": {
      "displayName": "Akshay Tiwari",
      "photoUrl": "https://lh3.googleusercontent.com/a-/AAuE7mBxfeKyXo_U4zk5HDKX2NYq1-whtREL1jBpGr69NQ=s64",
      "userId": "03055594998709423173"
     },
     "user_tz": -330
    },
    "id": "8nv-5LVOfVEa",
    "outputId": "5f49683e-d5ff-4ac0-f0e4-ae2d57d3ddd1"
   },
   "outputs": [
    {
     "data": {
      "text/html": [
       "<div>\n",
       "<style scoped>\n",
       "    .dataframe tbody tr th:only-of-type {\n",
       "        vertical-align: middle;\n",
       "    }\n",
       "\n",
       "    .dataframe tbody tr th {\n",
       "        vertical-align: top;\n",
       "    }\n",
       "\n",
       "    .dataframe thead th {\n",
       "        text-align: right;\n",
       "    }\n",
       "</style>\n",
       "<table border=\"1\" class=\"dataframe\">\n",
       "  <thead>\n",
       "    <tr style=\"text-align: right;\">\n",
       "      <th></th>\n",
       "      <th>labels</th>\n",
       "      <th>text</th>\n",
       "    </tr>\n",
       "  </thead>\n",
       "  <tbody>\n",
       "    <tr>\n",
       "      <th>0</th>\n",
       "      <td>positive</td>\n",
       "      <td>To this day, there isn't a movie I've seen mor...</td>\n",
       "    </tr>\n",
       "    <tr>\n",
       "      <th>1</th>\n",
       "      <td>negative</td>\n",
       "      <td>This movie was so bad I couldn't sit through i...</td>\n",
       "    </tr>\n",
       "    <tr>\n",
       "      <th>2</th>\n",
       "      <td>positive</td>\n",
       "      <td>A very positive message for our youth is shown...</td>\n",
       "    </tr>\n",
       "    <tr>\n",
       "      <th>3</th>\n",
       "      <td>negative</td>\n",
       "      <td>There is no possible reason I can fathom why t...</td>\n",
       "    </tr>\n",
       "    <tr>\n",
       "      <th>4</th>\n",
       "      <td>negative</td>\n",
       "      <td>What a HUGE pile of dung. Shot-on-video (REALL...</td>\n",
       "    </tr>\n",
       "    <tr>\n",
       "      <th>...</th>\n",
       "      <td>...</td>\n",
       "      <td>...</td>\n",
       "    </tr>\n",
       "    <tr>\n",
       "      <th>4995</th>\n",
       "      <td>negative</td>\n",
       "      <td>Well well, I had seen a lot of reviews on this...</td>\n",
       "    </tr>\n",
       "    <tr>\n",
       "      <th>4996</th>\n",
       "      <td>negative</td>\n",
       "      <td>Well, what can you say about a Barbara Cartlan...</td>\n",
       "    </tr>\n",
       "    <tr>\n",
       "      <th>4997</th>\n",
       "      <td>negative</td>\n",
       "      <td>I have three comments to make about this film,...</td>\n",
       "    </tr>\n",
       "    <tr>\n",
       "      <th>4998</th>\n",
       "      <td>positive</td>\n",
       "      <td>I have one word to someup this movie, WOW! I s...</td>\n",
       "    </tr>\n",
       "    <tr>\n",
       "      <th>4999</th>\n",
       "      <td>positive</td>\n",
       "      <td>(My Synopsis) Rae (Christina Ricci) was a high...</td>\n",
       "    </tr>\n",
       "  </tbody>\n",
       "</table>\n",
       "<p>5000 rows × 2 columns</p>\n",
       "</div>"
      ],
      "text/plain": [
       "        labels                                               text\n",
       "0     positive  To this day, there isn't a movie I've seen mor...\n",
       "1     negative  This movie was so bad I couldn't sit through i...\n",
       "2     positive  A very positive message for our youth is shown...\n",
       "3     negative  There is no possible reason I can fathom why t...\n",
       "4     negative  What a HUGE pile of dung. Shot-on-video (REALL...\n",
       "...        ...                                                ...\n",
       "4995  negative  Well well, I had seen a lot of reviews on this...\n",
       "4996  negative  Well, what can you say about a Barbara Cartlan...\n",
       "4997  negative  I have three comments to make about this film,...\n",
       "4998  positive  I have one word to someup this movie, WOW! I s...\n",
       "4999  positive  (My Synopsis) Rae (Christina Ricci) was a high...\n",
       "\n",
       "[5000 rows x 2 columns]"
      ]
     },
     "execution_count": 105,
     "metadata": {
      "tags": []
     },
     "output_type": "execute_result"
    }
   ],
   "source": [
    "df_trn\n"
   ]
  },
  {
   "cell_type": "markdown",
   "metadata": {},
   "source": [
    "## Classifier"
   ]
  },
  {
   "cell_type": "code",
   "execution_count": 106,
   "metadata": {
    "colab": {
     "base_uri": "https://localhost:8080/",
     "height": 17
    },
    "colab_type": "code",
    "executionInfo": {
     "elapsed": 16279,
     "status": "ok",
     "timestamp": 1576213399176,
     "user": {
      "displayName": "Akshay Tiwari",
      "photoUrl": "https://lh3.googleusercontent.com/a-/AAuE7mBxfeKyXo_U4zk5HDKX2NYq1-whtREL1jBpGr69NQ=s64",
      "userId": "03055594998709423173"
     },
     "user_tz": -330
    },
    "id": "zIq6AI3G9zRQ",
    "outputId": "3a737cff-c7bb-4ec7-90ac-f619b90e987f"
   },
   "outputs": [
    {
     "data": {
      "text/html": [],
      "text/plain": [
       "<IPython.core.display.HTML object>"
      ]
     },
     "metadata": {
      "tags": []
     },
     "output_type": "display_data"
    },
    {
     "data": {
      "text/html": [],
      "text/plain": [
       "<IPython.core.display.HTML object>"
      ]
     },
     "metadata": {
      "tags": []
     },
     "output_type": "display_data"
    }
   ],
   "source": [
    "data_clas = TextClasDataBunch.from_df(path=path,train_df=df_trn, valid_df=df_val, vocab=data_bunch.train_ds.vocab, bs=36)"
   ]
  },
  {
   "cell_type": "code",
   "execution_count": 107,
   "metadata": {
    "colab": {
     "base_uri": "https://localhost:8080/",
     "height": 1000
    },
    "colab_type": "code",
    "executionInfo": {
     "elapsed": 1913,
     "status": "ok",
     "timestamp": 1576213403077,
     "user": {
      "displayName": "Akshay Tiwari",
      "photoUrl": "https://lh3.googleusercontent.com/a-/AAuE7mBxfeKyXo_U4zk5HDKX2NYq1-whtREL1jBpGr69NQ=s64",
      "userId": "03055594998709423173"
     },
     "user_tz": -330
    },
    "id": "J0BGlUo0-Vbc",
    "outputId": "55d205e7-daf6-4cf8-c60c-0a316b92822a"
   },
   "outputs": [
    {
     "data": {
      "text/plain": [
       "RNNLearner(data=TextClasDataBunch;\n",
       "\n",
       "Train: LabelList (5000 items)\n",
       "x: TextList\n",
       "xxbos xxmaj to this day , there is n't a movie i 've seen more times than xxmaj the xxmaj chipmunk xxmaj adventure , nor has any movie brought me more happiness . xxmaj this is by no means the greatest film or even the greatest animated film , but to an 8 year old girl in 1988 it was the coolest , funniest , most exciting film ever ! i 'm still equally as impressed today with the musical numbers , each one a standout song with wonderfully dramatic lyrics in the epic tradition of 80 's pop ( think xxmaj pat xxmaj xxunk on helium , only xxunk ) . \n",
       " \n",
       "  xxmaj controversy has stirred over the blatantly suggestive tone of the xxmaj xxunk 's song \" xxmaj xxunk ' xxmaj lucky xxmaj with xxmaj you \" , which to me seemed much more innocent at the time . xxmaj however , looking at it as a rational adult , i can totally understand the concern ; you 've got three young girls in skimpy xxunk outfits passionately proclaiming \" getting lucky is what it 's all about \" . xxmaj the xxmaj chipettes ' were definitely xxunk tenfold for this movie . \n",
       " \n",
       "  xxmaj but this controversial issue does n't even come close to xxunk the xxmaj chipmunks ' otherwise fabulous feature length animated adventure , i encourage parents and childless adults alike to check out this movie . xxmaj especially if you were a child of the eighties / early nineties like me . :-),xxbos xxmaj this movie was so bad i could n't sit through it without doing something else . xxmaj there was no plot and no point . i was thoroughly bored and for a film about a stand up comedian , i could n't recall one joke or funny line worthy of the description . xxmaj politicians with no charisma speaking technical jargon could not be less entertaining . \n",
       " \n",
       "  xxmaj so how was this made ? xxmaj is there no quality control in film ? xxmaj watching the girls in xxunk was the only distraction during this horrible experience . \n",
       " \n",
       "  xxmaj it 's hard to imagine that xxmaj adam xxmaj sandler who has become popular and has appeared in fine comedies was able to survive after this kind of exposure . xxmaj he was not funny in the least in this movie so it proves that the writing is so vital in effective comedy .,xxbos a very positive message for our youth is shown in this movie . xxmaj through the sport of rugby as a mean , a xxmaj high xxmaj school rugby coach leads his players in their behavior and lifestyle , xxup on and xxup off the field . \n",
       " \n",
       "  xxmaj the acting and directing are good . xxmaj the rugby shots are just xxup ok if you know some rugby or really cool if do n't know much about it . \n",
       " \n",
       "  i recommend this movie , worth watching , especially at a point in time when this sport is gaining more and more xxunk every day . \n",
       " \n",
       "  xxmaj the plot is based on a true story taking place in xxmaj utah . xxmaj the coach portrayed in this movie has been at the helm of the xxmaj xxunk for over 30 years ( and loosing only game every 3 years ) . \n",
       " \n",
       "  xxmaj enjoy !,xxbos xxmaj there is no possible reason i can fathom why this movie was ever made . \n",
       " \n",
       "  xxmaj why must xxmaj hollywood continue to crank out one horrible update of a classic after another ? ( xxmaj cases in point : xxmaj mister xxmaj magoo , xxmaj the xxmaj avengers - awful ! ) \n",
       " \n",
       "  xxmaj christopher xxmaj lloyd , whom i normally enjoy , was so miserably miscast in this role . xxmaj his manic portrayal of our beloved \" xxmaj uncle xxmaj martin \" is so unspeakably unenjoyable to be almost criminal . xxmaj his ranting , groaning , grimacing and histrionics provide us with no reason to care for his character except as some 1 dimensional cartoon character . \n",
       " \n",
       "  xxmaj the director must have thought that fast movements , screaming dialogue and \" one - take \" slapstick had some similarity to comedy . xxmaj apparently he told xxup every xxup actor to act as if they had red ants in their pants . \n",
       " \n",
       "  xxmaj fault must lie with the irresponsibly wrought script . i think the writer used \" xxmaj it 's a xxmaj mad , xxmaj mad , xxmaj mad , xxmaj mad xxmaj world \" as an example of a fine comedy script . xxmaj as manic as that 1963 classic is , it is far superior to this claptrap - in fact - suddenly it looks pretty good in comparison . \n",
       " \n",
       "  xxmaj what is most sad about this movie is that it must have apparently been written to appeal to young children . i just am not sure whose children it was made for . xxmaj certainly no self - respecting , card - carrying child i know ! \n",
       " \n",
       "  xxmaj if they xxup had to remake \" xxmaj my xxmaj favorite xxmaj martian \" , why did n't they add some of the timeless charm of the original classic ? \n",
       " \n",
       "  xxmaj unfortunately , imdb.com can not factor in \" zero \" as a rating for its readers , that is the only rating that comes to mind in describing this travesty . \n",
       " \n",
       "  xxmaj one good thing did come from this movie , the actors and crew were paid - i think .,xxbos xxmaj what a xxup huge pile of dung . xxmaj shot - on - video ( xxup really crappy camcorder , xxup not digital ) pile of garbage . xxmaj it is without a doubt , the stupidest thing ever made . xxmaj the fact that this crap was actually released is completely xxunk . xxmaj everyone who sees it will become stupider for having watched it . xxmaj seriously . i felt like it killed several brain cells after i watched this garbage . xxmaj the positive reviews of this xxunk were obviously made by the \" filmmaker \" ( and i use the term xxup very loosely ) himself and / or his family and friends because no normal person with the intelligence of a squirrel would honestly like this waste of life . xxmaj trust me , stay the hell away from this video . xxmaj you 'll thank me for it . xxmaj avoid it like xxunk .\n",
       "y: CategoryList\n",
       "positive,negative,positive,negative,negative\n",
       "Path: .;\n",
       "\n",
       "Valid: LabelList (3000 items)\n",
       "x: TextList\n",
       "xxbos xxmaj if you go to the cinema to be entertained , amused , so as to fill up your time , do not go out of your way to watch this film . \n",
       " \n",
       "  xxmaj if you go to the cinema to appreciate the depths of human - kind , the feelings of real people , to explore the xxunk of personalities , if you go to the cinema to absorb magnificent photography , be sure to put this film very high on your list , preferably in first place . xxmaj the experience is profoundly rewarding , causing the intelligent viewer to make diverse xxunk over the meaning of life itself . xxmaj with ' xxmaj mar xxmaj xxunk ' xxmaj alejandro xxmaj xxunk has surpassed the best he has done to date , and even redeemed certain deviations in his earlier films which xxunk a little of being aimed at xxmaj hollywood . xxmaj this is not the case with this visual poem put to music : xxmaj hollywood could never get anywhere near the effect of this xxunk inspired human - and humane - story . \n",
       " \n",
       "  xxmaj in no way should one interpret ' xxmaj mar xxmaj xxunk ' as an xxunk for xxunk ; this story , based on the real life of the xxmaj xxunk fisherman xxmaj ramón xxmaj sampedro , is a cry from the bottom of the heart for life and love , a reaching out for human compassion , for understanding emotions . xxmaj sampedro was an articulate and intelligent man who after a diving accident off the rocks of the xxmaj xxunk coast as a young man was condemned to live the next 27 years in bed . ' xxmaj xxunk a xxunk ' ( 2001 ) ( xxup tv ) was the first version of this man 's life on which i have already commented . xxmaj however , xxmaj xxunk has succeeded remarkably at portraying this man , with his permanent enigmatic smile and witty sense of humour , in an equally articulate and intelligent way . \n",
       " \n",
       "  xxmaj and xxmaj javier xxmaj bardem rose to the occasion , met the challenge head - on , complete with a xxmaj xxunk accent , producing an electrifying , compelling , enthralling performance , such that the actor and the fisherman become fused into being the same person on screen . xxmaj here , indeed , is an occasion to xxunk your cap , and xxunk xxunk ' xxunk ' . xxmaj bardem is driven on in his task by a magnificent cast , especially xxmaj xxunk xxmaj rueda , xxmaj lola xxmaj xxunk , xxmaj mabel xxmaj rivera , xxmaj xxunk xxmaj xxunk ( xxmaj los xxmaj xxunk al xxmaj xxunk ) ( xxunk ) and xxmaj clara xxmaj xxunk , xxmaj xxunk and xxmaj catalan accents taking prominent part . \n",
       " \n",
       "  xxmaj xxunk produces wonderful dialogues as these six rotate among themselves one - on - one , or in groups , with excellent chemistry , thus demonstrating that this young xxmaj chilean - born xxmaj spanish director is an artist who knows what he is at and how to get his results ; his global concept of the film includes his own music , interspersed with pieces by xxmaj xxunk and xxmaj xxunk on xxmaj sampedro 's record - player . \n",
       " \n",
       "  xxmaj whilst viewing ' xxmaj mar xxmaj xxunk ' , i found myself a couple of times comparing him and this film with xxmaj stephen xxmaj xxunk and his masterpiece ' xxmaj the xxmaj hours ' ( xxunk ) . i refer to the way in which the dialogues work with xxunk and passion and that careful sense of timing in each scene . \n",
       " \n",
       "  xxmaj javier xxmaj xxunk 's photography is superb as usual . xxmaj as i have mentioned elsewhere on imdb , he does not simply film the events and scenes - he captures even the feelings and the atmosphere of the moment , deftly catches that look in the eyes , light and shadows , such that his work behind the camera is at once another player in the story . a superb artist . \n",
       " \n",
       "  ' xxmaj mar xxmaj xxunk ' is another landmark in the history of xxmaj spanish cinematography , among the best five or six works of art produced here in the last 25 years . xxmaj this film places itself alongside such cinematographic art as ' xxmaj el xxmaj xxunk ' ( xxunk ) , ' xxmaj los xxmaj santos xxmaj xxunk ' ( xxunk ) , ' xxmaj el xxmaj xxunk ' ( xxunk ) , ' xxmaj la xxmaj xxunk de las xxmaj xxunk ' ( xxunk ) , ' xxmaj las xxmaj xxunk ' ( xxunk ) , ' a xxmaj los xxmaj que xxmaj xxunk ' ( xxunk ) , and i think i must add ' xxmaj te xxmaj xxunk xxmaj mis xxmaj xxunk ' ( xxunk ) . \n",
       " \n",
       "  xxmaj superbly orchestrated story of a real man , and those who loved him around his bedside : not to be missed .,xxbos xxmaj oh boy . xxmaj where do i begin on this piece of slime ? xxmaj this is one of the few real high - budget films on my list that i 've actually seen fit to give a 1 rating , and that 's not for the production values , which are pretty high . xxmaj this movie has absolutely no respect for the account in the bible , and treats the whole story as laughable fantasy . i could not recommend it to anyone , except to see how low as a society we have become ... \n",
       " \n",
       "  xxmaj for the first thing , xxmaj noah was absolutely not friends with xxmaj lot . xxmaj anyone who actually read xxmaj genesis could tell you that xxmaj abram was who they were thinking of . xxmaj the writers were just trying to pad out the story with the whole xxmaj sodom / xxmaj xxunk subplot , and it seems out of place because it is . xxmaj noah is treated as a prudish goofball ( \" xxmaj you were kissing ! xxmaj you were kissing ! \" ) but at least it 's a step up from xxmaj voight 's hilarious overacting in xxmaj anaconda . \n",
       " \n",
       "  xxmaj however , these xxunk pale in comparison to the xxunk treatment of xxmaj god in this movie . xxmaj god is portrayed as a petty , xxunk being who changes his mind at the slightest whim . ( \" i 'm one eternal perfect , but i can be wrong \" ) xxmaj what ? xxmaj where are they getting this from ? xxmaj this kind of xxmaj god ... no one should ever pay any attention to , much less worship , praise , or love . xxmaj what the director 's saying in this , i do not claim to know . i just know that a responsible treatment of xxmaj noah 's xxmaj ark should not take such an easy way out . xxmaj shame on these people .,xxbos xxmaj alas , it seems that the golden times of stylish xxmaj italian cinema have sunk into oblivion . xxmaj and the recent xxunk of celebrated filmmaker xxmaj lamberto xxmaj bava is yet another obvious proof to that assumption . \n",
       " \n",
       "  i felt lucky to watch many films from this prolific director ( like xxmaj body xxmaj puzzle , xxmaj xxunk , xxmaj macabre and both xxmaj demons ) . xxmaj albeit not entirely satisfying they have never been that dull . \n",
       " \n",
       "  a suspicion that this new entry to my xxup dvd collection was money thrown to the winds xxunk shortly in the aftermath of the car crash scene exhibiting an awkward and unlikely position of the body under the flip - over car . \n",
       " \n",
       "  xxmaj and the sense of shallowness grew up in the course of the xxunk narrated chain of events that followed . \n",
       " \n",
       "  xxmaj dumb dialogs , xxunk script and a total waste of talents from the international cast . xxmaj the only character that provided more or less passable performance was the mischievous xxmaj mark 's son xxunk up the entire boredom . \n",
       " \n",
       "  xxmaj unfortunately , xxmaj mario 's son job on all accounts could hardly be hailed . \n",
       " \n",
       "  i look forward to seeing his xxmaj murder xxmaj house hopefully expected to be an improvement .,xxbos i just watched this horrid thing on xxup tv . xxmaj needless to say it is one of those movies that you watch just to see how much worse it can get . xxmaj frankly , i do n't know how much lower the bar can go . \n",
       " \n",
       "  xxmaj the characters are composed of one lame stereo - type after another , and the obvious attempt at creating another \" xxmaj bad xxmaj news xxmaj bears \" is embarrassing to say the xxup very least . \n",
       " \n",
       "  i have seen some prized turkeys in my time , but there is no reason to list any of them since this is \" xxmaj xxunk xxmaj xxunk \" . \n",
       " \n",
       "  xxmaj let me put it to you this way , i watched the xxmaj vanilla xxmaj ice movie , because it was so bad it was funny . xxmaj this ... this ... is xxup not even that good .,xxbos xxmaj there are only a few movies which can be called ` must see ' and xxup xxunk is one of those films . xxmaj in many ways it was ahead of it 's time ( and you can tell it was a source of inspiration for several better - known films ) xxmaj copied by many , xxunk by none , this truly is one great movie . \n",
       " \n",
       "  xxmaj the story is complex but unfolds itself as a taut yet frequently amusing thriller and highly thought provoking exploration of the nature of humanity . xxmaj the story takes place in a post - apocalyptic world where people must live underground and chaos xxunk . xxup c. xxmaj thomas xxmaj howell is a ` xxmaj shepherd ' one who protects the xxunk for various religious leaders by killing off any xxunk members of the society . xxmaj the whole idea made me think about our society . xxmaj it 's really a brilliant social commentary , which is more than i can say for certain recent sci - fi / action blockbusters . xxup matrix xxup reloaded and xxup revolutions did n't make one feel that any real innovation was taking place , just dull video - game effects . xxmaj but xxup shepherd scores on the action scale too ... \n",
       " \n",
       "  xxmaj not once does this movie let the viewer catch their breath . xxmaj peter xxmaj xxunk proves himself to be one of the few genius action directors . xxmaj we 're talking 100 % , high grade , down home kung fu fighting ! xxmaj it was excellent . xxmaj really good special effects , shoot - outs , bleak - futuristic xxunk - punk noir style \n",
       "  the film really has its own elements . \n",
       " \n",
       "  xxmaj when talking about xxup shepherd , it 's impossible not to mention how much style it has . xxmaj the vision of this city is really stunning . xxmaj it recalls images of xxmaj tim xxmaj burton 's very memorable vision of xxmaj gotham in xxup batman . xxmaj and these sights are photographed by xxmaj xxunk xxmaj mears with a degree of skill that puts xxmaj gordon xxmaj willis and xxmaj conrad xxmaj hall to shame . xxmaj even the special effects proved amazing . xxmaj doubtless the scenes where fighting occurs are xxunk in all of filmmaking . xxmaj this movie is a ballet of awesome visual display . \n",
       " \n",
       "  xxmaj still , at the base of it all , there lies an interesting story , carried through by a strong cast . xxmaj the acting ( especially xxmaj rowdy xxmaj piper ) and the plot are both great , and excellently directed . xxmaj in contrast with loads of futuristic films made with a strong artificial flavor , the characters are believable and the dialogue is natural and full of wit . i 'm always proud to see a great film like xxup shepherd come along . xxmaj it 's a damn shame that it did n't receive good distribution and made nothing in the box office . xxmaj it 's a rarity worth searching for . xxmaj this movie will impress you and make you feel 10 times cooler for having seen it !\n",
       "y: CategoryList\n",
       "positive,negative,negative,negative,positive\n",
       "Path: .;\n",
       "\n",
       "Test: None, model=SequentialRNN(\n",
       "  (0): MultiBatchEncoder(\n",
       "    (module): AWD_LSTM(\n",
       "      (encoder): Embedding(23584, 400, padding_idx=1)\n",
       "      (encoder_dp): EmbeddingDropout(\n",
       "        (emb): Embedding(23584, 400, padding_idx=1)\n",
       "      )\n",
       "      (rnns): ModuleList(\n",
       "        (0): WeightDropout(\n",
       "          (module): LSTM(400, 1152, batch_first=True)\n",
       "        )\n",
       "        (1): WeightDropout(\n",
       "          (module): LSTM(1152, 1152, batch_first=True)\n",
       "        )\n",
       "        (2): WeightDropout(\n",
       "          (module): LSTM(1152, 400, batch_first=True)\n",
       "        )\n",
       "      )\n",
       "      (input_dp): RNNDropout()\n",
       "      (hidden_dps): ModuleList(\n",
       "        (0): RNNDropout()\n",
       "        (1): RNNDropout()\n",
       "        (2): RNNDropout()\n",
       "      )\n",
       "    )\n",
       "  )\n",
       "  (1): PoolingLinearClassifier(\n",
       "    (layers): Sequential(\n",
       "      (0): BatchNorm1d(1200, eps=1e-05, momentum=0.1, affine=True, track_running_stats=True)\n",
       "      (1): Dropout(p=0.2, inplace=False)\n",
       "      (2): Linear(in_features=1200, out_features=50, bias=True)\n",
       "      (3): ReLU(inplace=True)\n",
       "      (4): BatchNorm1d(50, eps=1e-05, momentum=0.1, affine=True, track_running_stats=True)\n",
       "      (5): Dropout(p=0.1, inplace=False)\n",
       "      (6): Linear(in_features=50, out_features=2, bias=True)\n",
       "    )\n",
       "  )\n",
       "), opt_func=functools.partial(<class 'torch.optim.adam.Adam'>, betas=(0.9, 0.99)), loss_func=FlattenedLoss of CrossEntropyLoss(), metrics=[<function accuracy at 0x7f70094c5d90>], true_wd=True, bn_wd=True, wd=0.01, train_bn=True, path=PosixPath('.'), model_dir='models', callback_fns=[functools.partial(<class 'fastai.basic_train.Recorder'>, add_time=True, silent=False)], callbacks=[RNNTrainer\n",
       "learn: RNNLearner(data=TextClasDataBunch;\n",
       "\n",
       "Train: LabelList (5000 items)\n",
       "x: TextList\n",
       "xxbos xxmaj to this day , there is n't a movie i 've seen more times than xxmaj the xxmaj chipmunk xxmaj adventure , nor has any movie brought me more happiness . xxmaj this is by no means the greatest film or even the greatest animated film , but to an 8 year old girl in 1988 it was the coolest , funniest , most exciting film ever ! i 'm still equally as impressed today with the musical numbers , each one a standout song with wonderfully dramatic lyrics in the epic tradition of 80 's pop ( think xxmaj pat xxmaj xxunk on helium , only xxunk ) . \n",
       " \n",
       "  xxmaj controversy has stirred over the blatantly suggestive tone of the xxmaj xxunk 's song \" xxmaj xxunk ' xxmaj lucky xxmaj with xxmaj you \" , which to me seemed much more innocent at the time . xxmaj however , looking at it as a rational adult , i can totally understand the concern ; you 've got three young girls in skimpy xxunk outfits passionately proclaiming \" getting lucky is what it 's all about \" . xxmaj the xxmaj chipettes ' were definitely xxunk tenfold for this movie . \n",
       " \n",
       "  xxmaj but this controversial issue does n't even come close to xxunk the xxmaj chipmunks ' otherwise fabulous feature length animated adventure , i encourage parents and childless adults alike to check out this movie . xxmaj especially if you were a child of the eighties / early nineties like me . :-),xxbos xxmaj this movie was so bad i could n't sit through it without doing something else . xxmaj there was no plot and no point . i was thoroughly bored and for a film about a stand up comedian , i could n't recall one joke or funny line worthy of the description . xxmaj politicians with no charisma speaking technical jargon could not be less entertaining . \n",
       " \n",
       "  xxmaj so how was this made ? xxmaj is there no quality control in film ? xxmaj watching the girls in xxunk was the only distraction during this horrible experience . \n",
       " \n",
       "  xxmaj it 's hard to imagine that xxmaj adam xxmaj sandler who has become popular and has appeared in fine comedies was able to survive after this kind of exposure . xxmaj he was not funny in the least in this movie so it proves that the writing is so vital in effective comedy .,xxbos a very positive message for our youth is shown in this movie . xxmaj through the sport of rugby as a mean , a xxmaj high xxmaj school rugby coach leads his players in their behavior and lifestyle , xxup on and xxup off the field . \n",
       " \n",
       "  xxmaj the acting and directing are good . xxmaj the rugby shots are just xxup ok if you know some rugby or really cool if do n't know much about it . \n",
       " \n",
       "  i recommend this movie , worth watching , especially at a point in time when this sport is gaining more and more xxunk every day . \n",
       " \n",
       "  xxmaj the plot is based on a true story taking place in xxmaj utah . xxmaj the coach portrayed in this movie has been at the helm of the xxmaj xxunk for over 30 years ( and loosing only game every 3 years ) . \n",
       " \n",
       "  xxmaj enjoy !,xxbos xxmaj there is no possible reason i can fathom why this movie was ever made . \n",
       " \n",
       "  xxmaj why must xxmaj hollywood continue to crank out one horrible update of a classic after another ? ( xxmaj cases in point : xxmaj mister xxmaj magoo , xxmaj the xxmaj avengers - awful ! ) \n",
       " \n",
       "  xxmaj christopher xxmaj lloyd , whom i normally enjoy , was so miserably miscast in this role . xxmaj his manic portrayal of our beloved \" xxmaj uncle xxmaj martin \" is so unspeakably unenjoyable to be almost criminal . xxmaj his ranting , groaning , grimacing and histrionics provide us with no reason to care for his character except as some 1 dimensional cartoon character . \n",
       " \n",
       "  xxmaj the director must have thought that fast movements , screaming dialogue and \" one - take \" slapstick had some similarity to comedy . xxmaj apparently he told xxup every xxup actor to act as if they had red ants in their pants . \n",
       " \n",
       "  xxmaj fault must lie with the irresponsibly wrought script . i think the writer used \" xxmaj it 's a xxmaj mad , xxmaj mad , xxmaj mad , xxmaj mad xxmaj world \" as an example of a fine comedy script . xxmaj as manic as that 1963 classic is , it is far superior to this claptrap - in fact - suddenly it looks pretty good in comparison . \n",
       " \n",
       "  xxmaj what is most sad about this movie is that it must have apparently been written to appeal to young children . i just am not sure whose children it was made for . xxmaj certainly no self - respecting , card - carrying child i know ! \n",
       " \n",
       "  xxmaj if they xxup had to remake \" xxmaj my xxmaj favorite xxmaj martian \" , why did n't they add some of the timeless charm of the original classic ? \n",
       " \n",
       "  xxmaj unfortunately , imdb.com can not factor in \" zero \" as a rating for its readers , that is the only rating that comes to mind in describing this travesty . \n",
       " \n",
       "  xxmaj one good thing did come from this movie , the actors and crew were paid - i think .,xxbos xxmaj what a xxup huge pile of dung . xxmaj shot - on - video ( xxup really crappy camcorder , xxup not digital ) pile of garbage . xxmaj it is without a doubt , the stupidest thing ever made . xxmaj the fact that this crap was actually released is completely xxunk . xxmaj everyone who sees it will become stupider for having watched it . xxmaj seriously . i felt like it killed several brain cells after i watched this garbage . xxmaj the positive reviews of this xxunk were obviously made by the \" filmmaker \" ( and i use the term xxup very loosely ) himself and / or his family and friends because no normal person with the intelligence of a squirrel would honestly like this waste of life . xxmaj trust me , stay the hell away from this video . xxmaj you 'll thank me for it . xxmaj avoid it like xxunk .\n",
       "y: CategoryList\n",
       "positive,negative,positive,negative,negative\n",
       "Path: .;\n",
       "\n",
       "Valid: LabelList (3000 items)\n",
       "x: TextList\n",
       "xxbos xxmaj if you go to the cinema to be entertained , amused , so as to fill up your time , do not go out of your way to watch this film . \n",
       " \n",
       "  xxmaj if you go to the cinema to appreciate the depths of human - kind , the feelings of real people , to explore the xxunk of personalities , if you go to the cinema to absorb magnificent photography , be sure to put this film very high on your list , preferably in first place . xxmaj the experience is profoundly rewarding , causing the intelligent viewer to make diverse xxunk over the meaning of life itself . xxmaj with ' xxmaj mar xxmaj xxunk ' xxmaj alejandro xxmaj xxunk has surpassed the best he has done to date , and even redeemed certain deviations in his earlier films which xxunk a little of being aimed at xxmaj hollywood . xxmaj this is not the case with this visual poem put to music : xxmaj hollywood could never get anywhere near the effect of this xxunk inspired human - and humane - story . \n",
       " \n",
       "  xxmaj in no way should one interpret ' xxmaj mar xxmaj xxunk ' as an xxunk for xxunk ; this story , based on the real life of the xxmaj xxunk fisherman xxmaj ramón xxmaj sampedro , is a cry from the bottom of the heart for life and love , a reaching out for human compassion , for understanding emotions . xxmaj sampedro was an articulate and intelligent man who after a diving accident off the rocks of the xxmaj xxunk coast as a young man was condemned to live the next 27 years in bed . ' xxmaj xxunk a xxunk ' ( 2001 ) ( xxup tv ) was the first version of this man 's life on which i have already commented . xxmaj however , xxmaj xxunk has succeeded remarkably at portraying this man , with his permanent enigmatic smile and witty sense of humour , in an equally articulate and intelligent way . \n",
       " \n",
       "  xxmaj and xxmaj javier xxmaj bardem rose to the occasion , met the challenge head - on , complete with a xxmaj xxunk accent , producing an electrifying , compelling , enthralling performance , such that the actor and the fisherman become fused into being the same person on screen . xxmaj here , indeed , is an occasion to xxunk your cap , and xxunk xxunk ' xxunk ' . xxmaj bardem is driven on in his task by a magnificent cast , especially xxmaj xxunk xxmaj rueda , xxmaj lola xxmaj xxunk , xxmaj mabel xxmaj rivera , xxmaj xxunk xxmaj xxunk ( xxmaj los xxmaj xxunk al xxmaj xxunk ) ( xxunk ) and xxmaj clara xxmaj xxunk , xxmaj xxunk and xxmaj catalan accents taking prominent part . \n",
       " \n",
       "  xxmaj xxunk produces wonderful dialogues as these six rotate among themselves one - on - one , or in groups , with excellent chemistry , thus demonstrating that this young xxmaj chilean - born xxmaj spanish director is an artist who knows what he is at and how to get his results ; his global concept of the film includes his own music , interspersed with pieces by xxmaj xxunk and xxmaj xxunk on xxmaj sampedro 's record - player . \n",
       " \n",
       "  xxmaj whilst viewing ' xxmaj mar xxmaj xxunk ' , i found myself a couple of times comparing him and this film with xxmaj stephen xxmaj xxunk and his masterpiece ' xxmaj the xxmaj hours ' ( xxunk ) . i refer to the way in which the dialogues work with xxunk and passion and that careful sense of timing in each scene . \n",
       " \n",
       "  xxmaj javier xxmaj xxunk 's photography is superb as usual . xxmaj as i have mentioned elsewhere on imdb , he does not simply film the events and scenes - he captures even the feelings and the atmosphere of the moment , deftly catches that look in the eyes , light and shadows , such that his work behind the camera is at once another player in the story . a superb artist . \n",
       " \n",
       "  ' xxmaj mar xxmaj xxunk ' is another landmark in the history of xxmaj spanish cinematography , among the best five or six works of art produced here in the last 25 years . xxmaj this film places itself alongside such cinematographic art as ' xxmaj el xxmaj xxunk ' ( xxunk ) , ' xxmaj los xxmaj santos xxmaj xxunk ' ( xxunk ) , ' xxmaj el xxmaj xxunk ' ( xxunk ) , ' xxmaj la xxmaj xxunk de las xxmaj xxunk ' ( xxunk ) , ' xxmaj las xxmaj xxunk ' ( xxunk ) , ' a xxmaj los xxmaj que xxmaj xxunk ' ( xxunk ) , and i think i must add ' xxmaj te xxmaj xxunk xxmaj mis xxmaj xxunk ' ( xxunk ) . \n",
       " \n",
       "  xxmaj superbly orchestrated story of a real man , and those who loved him around his bedside : not to be missed .,xxbos xxmaj oh boy . xxmaj where do i begin on this piece of slime ? xxmaj this is one of the few real high - budget films on my list that i 've actually seen fit to give a 1 rating , and that 's not for the production values , which are pretty high . xxmaj this movie has absolutely no respect for the account in the bible , and treats the whole story as laughable fantasy . i could not recommend it to anyone , except to see how low as a society we have become ... \n",
       " \n",
       "  xxmaj for the first thing , xxmaj noah was absolutely not friends with xxmaj lot . xxmaj anyone who actually read xxmaj genesis could tell you that xxmaj abram was who they were thinking of . xxmaj the writers were just trying to pad out the story with the whole xxmaj sodom / xxmaj xxunk subplot , and it seems out of place because it is . xxmaj noah is treated as a prudish goofball ( \" xxmaj you were kissing ! xxmaj you were kissing ! \" ) but at least it 's a step up from xxmaj voight 's hilarious overacting in xxmaj anaconda . \n",
       " \n",
       "  xxmaj however , these xxunk pale in comparison to the xxunk treatment of xxmaj god in this movie . xxmaj god is portrayed as a petty , xxunk being who changes his mind at the slightest whim . ( \" i 'm one eternal perfect , but i can be wrong \" ) xxmaj what ? xxmaj where are they getting this from ? xxmaj this kind of xxmaj god ... no one should ever pay any attention to , much less worship , praise , or love . xxmaj what the director 's saying in this , i do not claim to know . i just know that a responsible treatment of xxmaj noah 's xxmaj ark should not take such an easy way out . xxmaj shame on these people .,xxbos xxmaj alas , it seems that the golden times of stylish xxmaj italian cinema have sunk into oblivion . xxmaj and the recent xxunk of celebrated filmmaker xxmaj lamberto xxmaj bava is yet another obvious proof to that assumption . \n",
       " \n",
       "  i felt lucky to watch many films from this prolific director ( like xxmaj body xxmaj puzzle , xxmaj xxunk , xxmaj macabre and both xxmaj demons ) . xxmaj albeit not entirely satisfying they have never been that dull . \n",
       " \n",
       "  a suspicion that this new entry to my xxup dvd collection was money thrown to the winds xxunk shortly in the aftermath of the car crash scene exhibiting an awkward and unlikely position of the body under the flip - over car . \n",
       " \n",
       "  xxmaj and the sense of shallowness grew up in the course of the xxunk narrated chain of events that followed . \n",
       " \n",
       "  xxmaj dumb dialogs , xxunk script and a total waste of talents from the international cast . xxmaj the only character that provided more or less passable performance was the mischievous xxmaj mark 's son xxunk up the entire boredom . \n",
       " \n",
       "  xxmaj unfortunately , xxmaj mario 's son job on all accounts could hardly be hailed . \n",
       " \n",
       "  i look forward to seeing his xxmaj murder xxmaj house hopefully expected to be an improvement .,xxbos i just watched this horrid thing on xxup tv . xxmaj needless to say it is one of those movies that you watch just to see how much worse it can get . xxmaj frankly , i do n't know how much lower the bar can go . \n",
       " \n",
       "  xxmaj the characters are composed of one lame stereo - type after another , and the obvious attempt at creating another \" xxmaj bad xxmaj news xxmaj bears \" is embarrassing to say the xxup very least . \n",
       " \n",
       "  i have seen some prized turkeys in my time , but there is no reason to list any of them since this is \" xxmaj xxunk xxmaj xxunk \" . \n",
       " \n",
       "  xxmaj let me put it to you this way , i watched the xxmaj vanilla xxmaj ice movie , because it was so bad it was funny . xxmaj this ... this ... is xxup not even that good .,xxbos xxmaj there are only a few movies which can be called ` must see ' and xxup xxunk is one of those films . xxmaj in many ways it was ahead of it 's time ( and you can tell it was a source of inspiration for several better - known films ) xxmaj copied by many , xxunk by none , this truly is one great movie . \n",
       " \n",
       "  xxmaj the story is complex but unfolds itself as a taut yet frequently amusing thriller and highly thought provoking exploration of the nature of humanity . xxmaj the story takes place in a post - apocalyptic world where people must live underground and chaos xxunk . xxup c. xxmaj thomas xxmaj howell is a ` xxmaj shepherd ' one who protects the xxunk for various religious leaders by killing off any xxunk members of the society . xxmaj the whole idea made me think about our society . xxmaj it 's really a brilliant social commentary , which is more than i can say for certain recent sci - fi / action blockbusters . xxup matrix xxup reloaded and xxup revolutions did n't make one feel that any real innovation was taking place , just dull video - game effects . xxmaj but xxup shepherd scores on the action scale too ... \n",
       " \n",
       "  xxmaj not once does this movie let the viewer catch their breath . xxmaj peter xxmaj xxunk proves himself to be one of the few genius action directors . xxmaj we 're talking 100 % , high grade , down home kung fu fighting ! xxmaj it was excellent . xxmaj really good special effects , shoot - outs , bleak - futuristic xxunk - punk noir style \n",
       "  the film really has its own elements . \n",
       " \n",
       "  xxmaj when talking about xxup shepherd , it 's impossible not to mention how much style it has . xxmaj the vision of this city is really stunning . xxmaj it recalls images of xxmaj tim xxmaj burton 's very memorable vision of xxmaj gotham in xxup batman . xxmaj and these sights are photographed by xxmaj xxunk xxmaj mears with a degree of skill that puts xxmaj gordon xxmaj willis and xxmaj conrad xxmaj hall to shame . xxmaj even the special effects proved amazing . xxmaj doubtless the scenes where fighting occurs are xxunk in all of filmmaking . xxmaj this movie is a ballet of awesome visual display . \n",
       " \n",
       "  xxmaj still , at the base of it all , there lies an interesting story , carried through by a strong cast . xxmaj the acting ( especially xxmaj rowdy xxmaj piper ) and the plot are both great , and excellently directed . xxmaj in contrast with loads of futuristic films made with a strong artificial flavor , the characters are believable and the dialogue is natural and full of wit . i 'm always proud to see a great film like xxup shepherd come along . xxmaj it 's a damn shame that it did n't receive good distribution and made nothing in the box office . xxmaj it 's a rarity worth searching for . xxmaj this movie will impress you and make you feel 10 times cooler for having seen it !\n",
       "y: CategoryList\n",
       "positive,negative,negative,negative,positive\n",
       "Path: .;\n",
       "\n",
       "Test: None, model=SequentialRNN(\n",
       "  (0): MultiBatchEncoder(\n",
       "    (module): AWD_LSTM(\n",
       "      (encoder): Embedding(23584, 400, padding_idx=1)\n",
       "      (encoder_dp): EmbeddingDropout(\n",
       "        (emb): Embedding(23584, 400, padding_idx=1)\n",
       "      )\n",
       "      (rnns): ModuleList(\n",
       "        (0): WeightDropout(\n",
       "          (module): LSTM(400, 1152, batch_first=True)\n",
       "        )\n",
       "        (1): WeightDropout(\n",
       "          (module): LSTM(1152, 1152, batch_first=True)\n",
       "        )\n",
       "        (2): WeightDropout(\n",
       "          (module): LSTM(1152, 400, batch_first=True)\n",
       "        )\n",
       "      )\n",
       "      (input_dp): RNNDropout()\n",
       "      (hidden_dps): ModuleList(\n",
       "        (0): RNNDropout()\n",
       "        (1): RNNDropout()\n",
       "        (2): RNNDropout()\n",
       "      )\n",
       "    )\n",
       "  )\n",
       "  (1): PoolingLinearClassifier(\n",
       "    (layers): Sequential(\n",
       "      (0): BatchNorm1d(1200, eps=1e-05, momentum=0.1, affine=True, track_running_stats=True)\n",
       "      (1): Dropout(p=0.2, inplace=False)\n",
       "      (2): Linear(in_features=1200, out_features=50, bias=True)\n",
       "      (3): ReLU(inplace=True)\n",
       "      (4): BatchNorm1d(50, eps=1e-05, momentum=0.1, affine=True, track_running_stats=True)\n",
       "      (5): Dropout(p=0.1, inplace=False)\n",
       "      (6): Linear(in_features=50, out_features=2, bias=True)\n",
       "    )\n",
       "  )\n",
       "), opt_func=functools.partial(<class 'torch.optim.adam.Adam'>, betas=(0.9, 0.99)), loss_func=FlattenedLoss of CrossEntropyLoss(), metrics=[<function accuracy at 0x7f70094c5d90>], true_wd=True, bn_wd=True, wd=0.01, train_bn=True, path=PosixPath('.'), model_dir='models', callback_fns=[functools.partial(<class 'fastai.basic_train.Recorder'>, add_time=True, silent=False)], callbacks=[...], layer_groups=[Sequential(\n",
       "  (0): Embedding(23584, 400, padding_idx=1)\n",
       "  (1): EmbeddingDropout(\n",
       "    (emb): Embedding(23584, 400, padding_idx=1)\n",
       "  )\n",
       "), Sequential(\n",
       "  (0): WeightDropout(\n",
       "    (module): LSTM(400, 1152, batch_first=True)\n",
       "  )\n",
       "  (1): RNNDropout()\n",
       "), Sequential(\n",
       "  (0): WeightDropout(\n",
       "    (module): LSTM(1152, 1152, batch_first=True)\n",
       "  )\n",
       "  (1): RNNDropout()\n",
       "), Sequential(\n",
       "  (0): WeightDropout(\n",
       "    (module): LSTM(1152, 400, batch_first=True)\n",
       "  )\n",
       "  (1): RNNDropout()\n",
       "), Sequential(\n",
       "  (0): PoolingLinearClassifier(\n",
       "    (layers): Sequential(\n",
       "      (0): BatchNorm1d(1200, eps=1e-05, momentum=0.1, affine=True, track_running_stats=True)\n",
       "      (1): Dropout(p=0.2, inplace=False)\n",
       "      (2): Linear(in_features=1200, out_features=50, bias=True)\n",
       "      (3): ReLU(inplace=True)\n",
       "      (4): BatchNorm1d(50, eps=1e-05, momentum=0.1, affine=True, track_running_stats=True)\n",
       "      (5): Dropout(p=0.1, inplace=False)\n",
       "      (6): Linear(in_features=50, out_features=2, bias=True)\n",
       "    )\n",
       "  )\n",
       ")], add_time=True, silent=False)\n",
       "alpha: 2.0\n",
       "beta: 1.0], layer_groups=[Sequential(\n",
       "  (0): Embedding(23584, 400, padding_idx=1)\n",
       "  (1): EmbeddingDropout(\n",
       "    (emb): Embedding(23584, 400, padding_idx=1)\n",
       "  )\n",
       "), Sequential(\n",
       "  (0): WeightDropout(\n",
       "    (module): LSTM(400, 1152, batch_first=True)\n",
       "  )\n",
       "  (1): RNNDropout()\n",
       "), Sequential(\n",
       "  (0): WeightDropout(\n",
       "    (module): LSTM(1152, 1152, batch_first=True)\n",
       "  )\n",
       "  (1): RNNDropout()\n",
       "), Sequential(\n",
       "  (0): WeightDropout(\n",
       "    (module): LSTM(1152, 400, batch_first=True)\n",
       "  )\n",
       "  (1): RNNDropout()\n",
       "), Sequential(\n",
       "  (0): PoolingLinearClassifier(\n",
       "    (layers): Sequential(\n",
       "      (0): BatchNorm1d(1200, eps=1e-05, momentum=0.1, affine=True, track_running_stats=True)\n",
       "      (1): Dropout(p=0.2, inplace=False)\n",
       "      (2): Linear(in_features=1200, out_features=50, bias=True)\n",
       "      (3): ReLU(inplace=True)\n",
       "      (4): BatchNorm1d(50, eps=1e-05, momentum=0.1, affine=True, track_running_stats=True)\n",
       "      (5): Dropout(p=0.1, inplace=False)\n",
       "      (6): Linear(in_features=50, out_features=2, bias=True)\n",
       "    )\n",
       "  )\n",
       ")], add_time=True, silent=False)"
      ]
     },
     "execution_count": 107,
     "metadata": {
      "tags": []
     },
     "output_type": "execute_result"
    }
   ],
   "source": [
    "classifier = text_classifier_learner(data_clas, arch= AWD_LSTM,drop_mult=0.5,max_len=60000)\n",
    "classifier.load_encoder('fine_enc')"
   ]
  },
  {
   "cell_type": "markdown",
   "metadata": {},
   "source": [
    "## Finding a Learning Rate"
   ]
  },
  {
   "cell_type": "code",
   "execution_count": 108,
   "metadata": {
    "colab": {
     "base_uri": "https://localhost:8080/",
     "height": 296
    },
    "colab_type": "code",
    "executionInfo": {
     "elapsed": 22675,
     "status": "ok",
     "timestamp": 1576213429627,
     "user": {
      "displayName": "Akshay Tiwari",
      "photoUrl": "https://lh3.googleusercontent.com/a-/AAuE7mBxfeKyXo_U4zk5HDKX2NYq1-whtREL1jBpGr69NQ=s64",
      "userId": "03055594998709423173"
     },
     "user_tz": -330
    },
    "id": "xf-x7AxM_J7o",
    "outputId": "5c6c9043-62d0-422d-9560-24cc57a625a5"
   },
   "outputs": [
    {
     "data": {
      "text/html": [],
      "text/plain": [
       "<IPython.core.display.HTML object>"
      ]
     },
     "metadata": {
      "tags": []
     },
     "output_type": "display_data"
    },
    {
     "name": "stdout",
     "output_type": "stream",
     "text": [
      "LR Finder is complete, type {learner_name}.recorder.plot() to see the graph.\n"
     ]
    },
    {
     "data": {
      "image/png": "[encoded data removed]",
      "text/plain": [
       "<Figure size 432x288 with 1 Axes>"
      ]
     },
     "metadata": {
      "tags": []
     },
     "output_type": "display_data"
    }
   ],
   "source": [
    "classifier.lr_find()\n",
    "classifier.recorder.plot()"
   ]
  },
  {
   "cell_type": "markdown",
   "metadata": {},
   "source": [
    "## Training the Model"
   ]
  },
  {
   "cell_type": "code",
   "execution_count": 115,
   "metadata": {
    "colab": {
     "base_uri": "https://localhost:8080/",
     "height": 80
    },
    "colab_type": "code",
    "executionInfo": {
     "elapsed": 42657,
     "status": "ok",
     "timestamp": 1576213892629,
     "user": {
      "displayName": "Akshay Tiwari",
      "photoUrl": "https://lh3.googleusercontent.com/a-/AAuE7mBxfeKyXo_U4zk5HDKX2NYq1-whtREL1jBpGr69NQ=s64",
      "userId": "03055594998709423173"
     },
     "user_tz": -330
    },
    "id": "8Y1iNeYfqff6",
    "outputId": "c6a7a3ec-535b-427c-eed4-4b0c04dd52f5",
    "scrolled": true
   },
   "outputs": [
    {
     "data": {
      "text/html": [
       "<table border=\"1\" class=\"dataframe\">\n",
       "  <thead>\n",
       "    <tr style=\"text-align: left;\">\n",
       "      <th>epoch</th>\n",
       "      <th>train_loss</th>\n",
       "      <th>valid_loss</th>\n",
       "      <th>accuracy</th>\n",
       "      <th>time</th>\n",
       "    </tr>\n",
       "  </thead>\n",
       "  <tbody>\n",
       "    <tr>\n",
       "      <td>0</td>\n",
       "      <td>0.418418</td>\n",
       "      <td>0.345147</td>\n",
       "      <td>0.853667</td>\n",
       "      <td>00:41</td>\n",
       "    </tr>\n",
       "  </tbody>\n",
       "</table>"
      ],
      "text/plain": [
       "<IPython.core.display.HTML object>"
      ]
     },
     "metadata": {
      "tags": []
     },
     "output_type": "display_data"
    }
   ],
   "source": [
    "classifier.fit_one_cycle(1,1e-03,moms=(0.8,0.7))"
   ]
  },
  {
   "cell_type": "code",
   "execution_count": 116,
   "metadata": {
    "colab": {
     "base_uri": "https://localhost:8080/",
     "height": 111
    },
    "colab_type": "code",
    "executionInfo": {
     "elapsed": 89691,
     "status": "ok",
     "timestamp": 1576213991719,
     "user": {
      "displayName": "Akshay Tiwari",
      "photoUrl": "https://lh3.googleusercontent.com/a-/AAuE7mBxfeKyXo_U4zk5HDKX2NYq1-whtREL1jBpGr69NQ=s64",
      "userId": "03055594998709423173"
     },
     "user_tz": -330
    },
    "id": "bdbQ4Lru_rut",
    "outputId": "04af5457-c699-4cdd-b85a-68fa5f716c8d",
    "scrolled": true
   },
   "outputs": [
    {
     "data": {
      "text/html": [
       "<table border=\"1\" class=\"dataframe\">\n",
       "  <thead>\n",
       "    <tr style=\"text-align: left;\">\n",
       "      <th>epoch</th>\n",
       "      <th>train_loss</th>\n",
       "      <th>valid_loss</th>\n",
       "      <th>accuracy</th>\n",
       "      <th>time</th>\n",
       "    </tr>\n",
       "  </thead>\n",
       "  <tbody>\n",
       "    <tr>\n",
       "      <td>0</td>\n",
       "      <td>0.425796</td>\n",
       "      <td>0.327024</td>\n",
       "      <td>0.863000</td>\n",
       "      <td>00:45</td>\n",
       "    </tr>\n",
       "    <tr>\n",
       "      <td>1</td>\n",
       "      <td>0.350526</td>\n",
       "      <td>0.291253</td>\n",
       "      <td>0.879000</td>\n",
       "      <td>00:43</td>\n",
       "    </tr>\n",
       "  </tbody>\n",
       "</table>"
      ],
      "text/plain": [
       "<IPython.core.display.HTML object>"
      ]
     },
     "metadata": {
      "tags": []
     },
     "output_type": "display_data"
    }
   ],
   "source": [
    "classifier.freeze_to(-2)\n",
    "classifier.fit_one_cycle(2,1e-03,moms=(0.8,0.7))"
   ]
  },
  {
   "cell_type": "code",
   "execution_count": null,
   "metadata": {},
   "outputs": [],
   "source": [
    "## Predicting and Testing our Model"
   ]
  },
  {
   "cell_type": "code",
   "execution_count": 176,
   "metadata": {
    "colab": {
     "base_uri": "https://localhost:8080/",
     "height": 34
    },
    "colab_type": "code",
    "executionInfo": {
     "elapsed": 1032,
     "status": "ok",
     "timestamp": 1576215880725,
     "user": {
      "displayName": "Akshay Tiwari",
      "photoUrl": "https://lh3.googleusercontent.com/a-/AAuE7mBxfeKyXo_U4zk5HDKX2NYq1-whtREL1jBpGr69NQ=s64",
      "userId": "03055594998709423173"
     },
     "user_tz": -330
    },
    "id": "lN7NnE-AALG6",
    "outputId": "06404580-1188-4430-a92d-8aad94b29241"
   },
   "outputs": [
    {
     "data": {
      "text/plain": [
       "(Category positive, tensor(1), tensor([0.1531, 0.8469]))"
      ]
     },
     "execution_count": 176,
     "metadata": {
      "tags": []
     },
     "output_type": "execute_result"
    }
   ],
   "source": [
    "classifier.predict(\"Reading the book before watching this movie, I was expecting more special effects of the Zone. Yet, Tarkovsky pleasantly surprises me by making this a film more about the human experience than of a post-apocalyptic wasteland.Though artistic, I find the film itself a bit too slow moving for my tastes and had moments where I nearly dozed off.3.5/5. I'd still rate this as one of Tarkovsky's great masterpieces but was a bit slow. Would recommend this for anyone wanting a crash course on Tarkovsky. \")"
   ]
  },
  {
   "cell_type": "code",
   "execution_count": 177,
   "metadata": {
    "colab": {
     "base_uri": "https://localhost:8080/",
     "height": 34
    },
    "colab_type": "code",
    "executionInfo": {
     "elapsed": 1066,
     "status": "ok",
     "timestamp": 1576215934625,
     "user": {
      "displayName": "Akshay Tiwari",
      "photoUrl": "https://lh3.googleusercontent.com/a-/AAuE7mBxfeKyXo_U4zk5HDKX2NYq1-whtREL1jBpGr69NQ=s64",
      "userId": "03055594998709423173"
     },
     "user_tz": -330
    },
    "id": "vZ9897R1b8lW",
    "outputId": "65af72e5-64a0-454b-bcb4-b6692137f5e5"
   },
   "outputs": [
    {
     "data": {
      "text/plain": [
       "(Category positive, tensor(1), tensor([0.1672, 0.8328]))"
      ]
     },
     "execution_count": 177,
     "metadata": {
      "tags": []
     },
     "output_type": "execute_result"
    }
   ],
   "source": [
    "classifier.predict(\"Reading the book before watching this movie, I was expecting more special effects of the Zone. Yet, Tarkovsky pleasantly surprises me by making this a film more about the human experience than of a post-apocalyptic wasteland.Though artistic, I find the film itself a bit too slow moving for my tastes and had moments where I nearly dozed off.3.5/5. I'd still rate this as one of Tarkovsky's great masterpieces but was a bit slow. \")\n"
   ]
  },
  {
   "cell_type": "code",
   "execution_count": 178,
   "metadata": {
    "colab": {
     "base_uri": "https://localhost:8080/",
     "height": 34
    },
    "colab_type": "code",
    "executionInfo": {
     "elapsed": 1052,
     "status": "ok",
     "timestamp": 1576216029838,
     "user": {
      "displayName": "Akshay Tiwari",
      "photoUrl": "https://lh3.googleusercontent.com/a-/AAuE7mBxfeKyXo_U4zk5HDKX2NYq1-whtREL1jBpGr69NQ=s64",
      "userId": "03055594998709423173"
     },
     "user_tz": -330
    },
    "id": "hTMvH8I5ypOk",
    "outputId": "05492477-4011-4303-adbb-e13ec2bbb113"
   },
   "outputs": [
    {
     "data": {
      "text/plain": [
       "(Category positive, tensor(1), tensor([0.1252, 0.8748]))"
      ]
     },
     "execution_count": 178,
     "metadata": {
      "tags": []
     },
     "output_type": "execute_result"
    }
   ],
   "source": [
    "classifier.predict(\"Reading the book before watching this movie, I was expecting more special effects of the Zone. Yet, Tarkovsky pleasantly surprises me by making this a film more about the human experience than of a post-apocalyptic wasteland.Though artistic, I find the film itself a bit too slow moving for my tastes and had moments where I nearly dozed off. I'd still rate this as one of Tarkovsky's great masterpieces but was a bit slow. \")\n"
   ]
  },
  {
   "cell_type": "code",
   "execution_count": 179,
   "metadata": {
    "colab": {
     "base_uri": "https://localhost:8080/",
     "height": 34
    },
    "colab_type": "code",
    "executionInfo": {
     "elapsed": 1022,
     "status": "ok",
     "timestamp": 1576216082577,
     "user": {
      "displayName": "Akshay Tiwari",
      "photoUrl": "https://lh3.googleusercontent.com/a-/AAuE7mBxfeKyXo_U4zk5HDKX2NYq1-whtREL1jBpGr69NQ=s64",
      "userId": "03055594998709423173"
     },
     "user_tz": -330
    },
    "id": "YxrHTU6qzEqf",
    "outputId": "4077767f-30b4-4e0b-e5fe-f1374c3123a7"
   },
   "outputs": [
    {
     "data": {
      "text/plain": [
       "(Category positive, tensor(1), tensor([0.0969, 0.9031]))"
      ]
     },
     "execution_count": 179,
     "metadata": {
      "tags": []
     },
     "output_type": "execute_result"
    }
   ],
   "source": [
    "classifier.predict(\"Reading the book before watching this movie, I was expecting more special effects of the Zone. Yet, Tarkovsky pleasantly surprises me by making this a film more about the human experience than of a post-apocalyptic wasteland.Though artistic, I find the film itself a bit too slow moving for my tastes and had moments where I nearly dozed off.  but was a bit slow. \")\n"
   ]
  },
  {
   "cell_type": "code",
   "execution_count": 181,
   "metadata": {
    "colab": {
     "base_uri": "https://localhost:8080/",
     "height": 34
    },
    "colab_type": "code",
    "executionInfo": {
     "elapsed": 1020,
     "status": "ok",
     "timestamp": 1576216164451,
     "user": {
      "displayName": "Akshay Tiwari",
      "photoUrl": "https://lh3.googleusercontent.com/a-/AAuE7mBxfeKyXo_U4zk5HDKX2NYq1-whtREL1jBpGr69NQ=s64",
      "userId": "03055594998709423173"
     },
     "user_tz": -330
    },
    "id": "7oEddkZSzTa0",
    "outputId": "0f279c4e-949c-4784-f83f-11368fd73030"
   },
   "outputs": [
    {
     "data": {
      "text/plain": [
       "(Category positive, tensor(1), tensor([0.1437, 0.8563]))"
      ]
     },
     "execution_count": 181,
     "metadata": {
      "tags": []
     },
     "output_type": "execute_result"
    }
   ],
   "source": [
    "classifier.predict(\"Reading the book before watching this movie, I was expecting more special effects of the Zone. Tarkovsky surprises me by making this a film more about the human experience than of a post-apocalyptic wasteland.Though artistic, I find the film itself a bit too slow moving for my tastes and had moments where I nearly dozed off.  but was a bit slow. \")\n"
   ]
  },
  {
   "cell_type": "code",
   "execution_count": 182,
   "metadata": {
    "colab": {
     "base_uri": "https://localhost:8080/",
     "height": 34
    },
    "colab_type": "code",
    "executionInfo": {
     "elapsed": 1038,
     "status": "ok",
     "timestamp": 1576216218778,
     "user": {
      "displayName": "Akshay Tiwari",
      "photoUrl": "https://lh3.googleusercontent.com/a-/AAuE7mBxfeKyXo_U4zk5HDKX2NYq1-whtREL1jBpGr69NQ=s64",
      "userId": "03055594998709423173"
     },
     "user_tz": -330
    },
    "id": "moHimnRhzo87",
    "outputId": "6979ddc0-22b5-4ca4-9fbc-5a52cd2602bc"
   },
   "outputs": [
    {
     "data": {
      "text/plain": [
       "(Category positive, tensor(1), tensor([0.2594, 0.7406]))"
      ]
     },
     "execution_count": 182,
     "metadata": {
      "tags": []
     },
     "output_type": "execute_result"
    }
   ],
   "source": [
    "classifier.predict(\"Reading the book before watching this movie, I was expecting more special effects of the Zone. this a film more about the human experience than of a post-apocalyptic wasteland.Though artistic, I find the film itself a bit too slow moving for my tastes and had moments where I nearly dozed off.  but was a bit slow. \")\n"
   ]
  },
  {
   "cell_type": "code",
   "execution_count": 183,
   "metadata": {
    "colab": {
     "base_uri": "https://localhost:8080/",
     "height": 34
    },
    "colab_type": "code",
    "executionInfo": {
     "elapsed": 1012,
     "status": "ok",
     "timestamp": 1576216257609,
     "user": {
      "displayName": "Akshay Tiwari",
      "photoUrl": "https://lh3.googleusercontent.com/a-/AAuE7mBxfeKyXo_U4zk5HDKX2NYq1-whtREL1jBpGr69NQ=s64",
      "userId": "03055594998709423173"
     },
     "user_tz": -330
    },
    "id": "55NPvsxAzt0q",
    "outputId": "e0be2b25-1523-4a27-b1e3-656fe4075438"
   },
   "outputs": [
    {
     "data": {
      "text/plain": [
       "(Category positive, tensor(1), tensor([0.4219, 0.5781]))"
      ]
     },
     "execution_count": 183,
     "metadata": {
      "tags": []
     },
     "output_type": "execute_result"
    }
   ],
   "source": [
    "classifier.predict(\"Reading the book before watching this movie, I was expecting more special effects of the Zone. Though artistic, I find the film itself a bit too slow moving for my tastes and had moments where I nearly dozed off.  but was a bit slow. \")\n"
   ]
  },
  {
   "cell_type": "code",
   "execution_count": 185,
   "metadata": {
    "colab": {
     "base_uri": "https://localhost:8080/",
     "height": 34
    },
    "colab_type": "code",
    "executionInfo": {
     "elapsed": 930,
     "status": "ok",
     "timestamp": 1576216319909,
     "user": {
      "displayName": "Akshay Tiwari",
      "photoUrl": "https://lh3.googleusercontent.com/a-/AAuE7mBxfeKyXo_U4zk5HDKX2NYq1-whtREL1jBpGr69NQ=s64",
      "userId": "03055594998709423173"
     },
     "user_tz": -330
    },
    "id": "0XfLws3s0DGa",
    "outputId": "dec3be14-7a27-4ea1-f8e7-a28cfbdd761b"
   },
   "outputs": [
    {
     "data": {
      "text/plain": [
       "(Category negative, tensor(0), tensor([0.5043, 0.4957]))"
      ]
     },
     "execution_count": 185,
     "metadata": {
      "tags": []
     },
     "output_type": "execute_result"
    }
   ],
   "source": [
    "classifier.predict(\", . Though artistic, I find the film itself a bit too slow moving for my tastes and had moments where I nearly dozed off.  but was a bit slow. \")\n"
   ]
  },
  {
   "cell_type": "code",
   "execution_count": 0,
   "metadata": {
    "colab": {},
    "colab_type": "code",
    "id": "gUqDQgZY0FOD"
   },
   "outputs": [],
   "source": []
  }
 ],
 "metadata": {
  "accelerator": "GPU",
  "colab": {
   "collapsed_sections": [],
   "name": "Review_Predictor.ipynb",
   "provenance": []
  },
  "kernelspec": {
   "display_name": "Python 3",
   "language": "python",
   "name": "python3"
  },
  "language_info": {
   "codemirror_mode": {
    "name": "ipython",
    "version": 3
   },
   "file_extension": ".py",
   "mimetype": "text/x-python",
   "name": "python",
   "nbconvert_exporter": "python",
   "pygments_lexer": "ipython3",
   "version": "3.7.5"
  }
 },
 "nbformat": 4,
 "nbformat_minor": 1
}
